{
 "cells": [
  {
   "cell_type": "code",
   "execution_count": 28,
   "metadata": {},
   "outputs": [],
   "source": [
    "import cv2\n",
    "import numpy as np\n",
    "\n",
    "import imutils\n",
    "\n",
    "\n",
    "#Detecting Barcodes in Images with Python and OpenCVPython\n",
    "# load the image and convert it to grayscale\n",
    "image = cv2.imread(\"/home/ilyes/Tunihack/the_one.jpg\")\n",
    "gray = cv2.cvtColor(image, cv2.COLOR_BGR2GRAY)\n",
    "\n",
    "# compute the Scharr gradient magnitude representation of the images\n",
    "# in both the x and y direction using OpenCV 2.4\n",
    "ddepth = cv2.cv.CV_32F if imutils.is_cv2() else cv2.CV_32F\n",
    "gradX = cv2.Sobel(gray, ddepth=ddepth, dx=1, dy=0, ksize=-1)\n",
    "gradY = cv2.Sobel(gray, ddepth=ddepth, dx=0, dy=1, ksize=-1)\n",
    "\n",
    "# subtract the y-gradient from the x-gradient\n",
    "gradient = cv2.subtract(gradX, gradY)\n",
    "gradient = cv2.convertScaleAbs(gradient)"
   ]
  },
  {
   "cell_type": "code",
   "execution_count": 29,
   "metadata": {},
   "outputs": [],
   "source": [
    "\n",
    "# blur and threshold the image\n",
    "blurred = cv2.blur(gradient, (9, 9))\n",
    "(_, thresh) = cv2.threshold(blurred, 225, 255, cv2.THRESH_BINARY)"
   ]
  },
  {
   "cell_type": "code",
   "execution_count": 30,
   "metadata": {},
   "outputs": [],
   "source": [
    "\n",
    "# construct a closing kernel and apply it to the thresholded image\n",
    "kernel = cv2.getStructuringElement(cv2.MORPH_RECT, (21, 7))\n",
    "closed = cv2.morphologyEx(thresh, cv2.MORPH_CLOSE, kernel)"
   ]
  },
  {
   "cell_type": "code",
   "execution_count": 31,
   "metadata": {},
   "outputs": [],
   "source": [
    "\n",
    "# perform a series of erosions and dilations\n",
    "closed = cv2.erode(closed, None, iterations = 4)\n",
    "closed = cv2.dilate(closed, None, iterations = 4)\n",
    "\n"
   ]
  },
  {
   "cell_type": "code",
   "execution_count": 32,
   "metadata": {},
   "outputs": [
    {
     "data": {
      "text/plain": [
       "True"
      ]
     },
     "execution_count": 32,
     "metadata": {},
     "output_type": "execute_result"
    }
   ],
   "source": [
    "\n",
    "# find the contours in the thresholded image, then sort the contours\n",
    "# by their area, keeping only the largest one\n",
    "cnts = cv2.findContours(closed.copy(), cv2.RETR_EXTERNAL,\n",
    "cv2.CHAIN_APPROX_SIMPLE)\n",
    "cnts = imutils.grab_contours(cnts)\n",
    "c = sorted(cnts, key = cv2.contourArea, reverse = True)[0]\n",
    " \n",
    "# compute the rotated bounding box of the largest contour\n",
    "rect = cv2.minAreaRect(c)\n",
    "box = cv2.cv.BoxPoints(rect) if imutils.is_cv2() else cv2.boxPoints(rect)\n",
    "box = np.int0(box)\n",
    " \n",
    "# draw a bounding box arounded the detected barcode and display the\n",
    "# image\n",
    "cv2.drawContours(image, [box], -1, (0, 255, 0), 3)\n",
    "cv2.imwrite(\"/home/ilyes/Tunihack/out.jpg\", image) \n"
   ]
  },
  {
   "cell_type": "code",
   "execution_count": 25,
   "metadata": {},
   "outputs": [],
   "source": [
    "def codabar_detection(path):\n",
    "    image = cv2.imread(path)\n",
    "\n",
    "    gray = cv2.cvtColor(image, cv2.COLOR_BGR2GRAY)\n",
    "\n",
    "    # compute the Scharr gradient magnitude representation of the images\n",
    "    # in both the x and y direction using OpenCV 2.4\n",
    "    ddepth = cv2.cv.CV_32F if imutils.is_cv2() else cv2.CV_32F\n",
    "    gradX = cv2.Sobel(gray, ddepth=ddepth, dx=1, dy=0, ksize=-1)\n",
    "    gradY = cv2.Sobel(gray, ddepth=ddepth, dx=0, dy=1, ksize=-1)\n",
    "\n",
    "    # subtract the y-gradient from the x-gradient\n",
    "    gradient = cv2.subtract(gradX, gradY)\n",
    "    gradient = cv2.convertScaleAbs(gradient)\n",
    "    \n",
    "    \n",
    "\n",
    "    # blur and threshold the image\n",
    "    blurred = cv2.blur(gradient, (9, 9))\n",
    "    (_, thresh) = cv2.threshold(blurred, 225, 255, cv2.THRESH_BINARY)\n",
    "    \n",
    "\n",
    "    # construct a closing kernel and apply it to the thresholded image\n",
    "    kernel = cv2.getStructuringElement(cv2.MORPH_RECT, (21, 7))\n",
    "    closed = cv2.morphologyEx(thresh, cv2.MORPH_CLOSE, kernel)\n",
    "    \n",
    "\n",
    "    # perform a series of erosions and dilations\n",
    "    closed = cv2.erode(closed, None, iterations = 4)\n",
    "    closed = cv2.dilate(closed, None, iterations = 4)\n",
    "    \n",
    "    \n",
    "    # find the contours in the thresholded image, then sort the contours\n",
    "    # by their area, keeping only the largest one\n",
    "    cnts = cv2.findContours(closed.copy(), cv2.RETR_EXTERNAL,\n",
    "    cv2.CHAIN_APPROX_SIMPLE)\n",
    "    cnts = imutils.grab_contours(cnts)\n",
    "    c = sorted(cnts, key = cv2.contourArea, reverse = True)[0]\n",
    "\n",
    "    # compute the rotated bounding box of the largest contour\n",
    "    rect = cv2.minAreaRect(c)\n",
    "    box = cv2.cv.BoxPoints(rect) if imutils.is_cv2() else cv2.boxPoints(rect)\n",
    "    box = np.int0(box)\n",
    "\n",
    "    # draw a bounding box arounded the detected barcode and display the\n",
    "    # image\n",
    "    cv2.drawContours(image, [box], -1, (0, 255, 0), 3)\n",
    "    cv2.imwrite(\"/home/ilyes/Tunihack/out.jpg\", image) \n",
    "    \n",
    "    return (\"/home/ilyes/Tunihack/out.jpg\")\n"
   ]
  },
  {
   "cell_type": "code",
   "execution_count": 33,
   "metadata": {},
   "outputs": [
    {
     "data": {
      "text/plain": [
       "'/home/ilyes/Tunihack/out.jpg'"
      ]
     },
     "execution_count": 33,
     "metadata": {},
     "output_type": "execute_result"
    }
   ],
   "source": [
    "codabar_detection(\"/home/ilyes/Tunihack/the_one.jpg\")"
   ]
  },
  {
   "cell_type": "code",
   "execution_count": null,
   "metadata": {},
   "outputs": [],
   "source": []
  },
  {
   "cell_type": "code",
   "execution_count": 23,
   "metadata": {},
   "outputs": [],
   "source": [
    "from pyzbar.pyzbar import decode\n",
    "\n",
    "bgr = (8, 70, 208)\n",
    "\n",
    "image = cv2.imread(\"/home/ilyes/Tunihack/prfume.jpg\")\n",
    "gray_img = cv2.cvtColor(image, cv2.COLOR_BGR2GRAY)\n",
    "barcodes = decode(gray_img)\n",
    "\n",
    "x=\"\"\n",
    "for bc in barcodes:\n",
    "\n",
    "    x= x+bc.data.decode(\"utf-8\") \n",
    "\n",
    "\n",
    "\n"
   ]
  },
  {
   "cell_type": "code",
   "execution_count": 34,
   "metadata": {},
   "outputs": [],
   "source": [
    "def codabar_extraction(path):\n",
    "    \n",
    "    bgr = (8, 70, 208)\n",
    "\n",
    "    image = cv2.imread(path)\n",
    "    gray_img = cv2.cvtColor(image, cv2.COLOR_BGR2GRAY)\n",
    "    barcodes = decode(gray_img)\n",
    "\n",
    "    x=\"\"\n",
    "    for bc in barcodes:\n",
    "\n",
    "        x= x+bc.data.decode(\"utf-8\") \n",
    "        \n",
    "    return(x)\n",
    "\n",
    "    "
   ]
  },
  {
   "cell_type": "code",
   "execution_count": 35,
   "metadata": {},
   "outputs": [
    {
     "data": {
      "text/plain": [
       "'0888277699277'"
      ]
     },
     "execution_count": 35,
     "metadata": {},
     "output_type": "execute_result"
    }
   ],
   "source": [
    "path=\"/home/ilyes/Tunihack/the_one.jpg\"\n",
    "codabar_extraction(path)"
   ]
  },
  {
   "cell_type": "code",
   "execution_count": null,
   "metadata": {},
   "outputs": [],
   "source": []
  }
 ],
 "metadata": {
  "kernelspec": {
   "display_name": "Python 3",
   "language": "python",
   "name": "python3"
  },
  "language_info": {
   "codemirror_mode": {
    "name": "ipython",
    "version": 3
   },
   "file_extension": ".py",
   "mimetype": "text/x-python",
   "name": "python",
   "nbconvert_exporter": "python",
   "pygments_lexer": "ipython3",
   "version": "3.6.9"
  }
 },
 "nbformat": 4,
 "nbformat_minor": 2
}
